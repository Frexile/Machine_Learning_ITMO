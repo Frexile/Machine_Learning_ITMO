{
  "nbformat": 4,
  "nbformat_minor": 0,
  "metadata": {
    "hide_input": false,
    "kernelspec": {
      "display_name": "Python 3",
      "language": "python",
      "name": "python3"
    },
    "language_info": {
      "codemirror_mode": {
        "name": "ipython",
        "version": 3
      },
      "file_extension": ".py",
      "mimetype": "text/x-python",
      "name": "python",
      "nbconvert_exporter": "python",
      "pygments_lexer": "ipython3",
      "version": "3.7.1"
    },
    "toc": {
      "base_numbering": 1,
      "nav_menu": {},
      "number_sections": true,
      "sideBar": true,
      "skip_h1_title": false,
      "title_cell": "Table of Contents",
      "title_sidebar": "Contents",
      "toc_cell": true,
      "toc_position": {},
      "toc_section_display": true,
      "toc_window_display": false
    },
    "varInspector": {
      "cols": {
        "lenName": 16,
        "lenType": 16,
        "lenVar": 40
      },
      "kernels_config": {
        "python": {
          "delete_cmd_postfix": "",
          "delete_cmd_prefix": "del ",
          "library": "var_list.py",
          "varRefreshCmd": "print(var_dic_list())"
        },
        "r": {
          "delete_cmd_postfix": ") ",
          "delete_cmd_prefix": "rm(",
          "library": "var_list.r",
          "varRefreshCmd": "cat(var_dic_list()) "
        }
      },
      "types_to_exclude": [
        "module",
        "function",
        "builtin_function_or_method",
        "instance",
        "_Feature"
      ],
      "window_display": false
    },
    "colab": {
      "name": "pandas.ipynb",
      "provenance": [],
      "collapsed_sections": [],
      "toc_visible": true,
      "include_colab_link": true
    }
  },
  "cells": [
    {
      "cell_type": "markdown",
      "metadata": {
        "id": "view-in-github",
        "colab_type": "text"
      },
      "source": [
        "<a href=\"https://colab.research.google.com/github/Frexile/Machine_Learning_ITMO/blob/main/pandas.ipynb\" target=\"_parent\"><img src=\"https://colab.research.google.com/assets/colab-badge.svg\" alt=\"Open In Colab\"/></a>"
      ]
    },
    {
      "cell_type": "code",
      "metadata": {
        "ExecuteTime": {
          "end_time": "2020-04-23T10:16:05.965275Z",
          "start_time": "2020-04-23T10:16:05.312704Z"
        },
        "id": "bZ7J0si68JdT"
      },
      "source": [
        "import pandas as pd\n",
        "import numpy as np"
      ],
      "execution_count": null,
      "outputs": []
    },
    {
      "cell_type": "code",
      "metadata": {
        "id": "amwtqMN0JMaV",
        "outputId": "37f7c395-6649-41ea-c559-1887b5ede895",
        "colab": {
          "base_uri": "https://localhost:8080/",
          "height": 289
        }
      },
      "source": [
        "!pip install PyDrive\n",
        "\n",
        "from pydrive.auth import GoogleAuth\n",
        "from pydrive.drive import GoogleDrive\n",
        "from google.colab import auth\n",
        "from oauth2client.client import GoogleCredentials\n",
        "\n",
        "auth.authenticate_user()\n",
        "gauth = GoogleAuth()\n",
        "gauth.credentials = GoogleCredentials.get_application_default()\n",
        "drive = GoogleDrive(gauth)\n",
        "\n",
        "downloaded = drive.CreateFile({'id':\"1-nskFrjNS5ScLBtpgjk8oURgu14ZNHTL\"})   \n",
        "downloaded.GetContentFile('copy_transactions.csv');\n",
        "transactions = pd.read_csv(filepath_or_buffer = \"copy_transactions.csv\", sep = ',', nrows=1000000)\n",
        "\n",
        "downloaded_tr_types = drive.CreateFile({\"id\":\"12c2clOzcEgBLiykuWKb3jlqg8Ge1FpOW\"})\n",
        "downloaded_tr_types.GetContentFile('tr_types.csv');\n",
        "tr_types = pd.read_csv(filepath_or_buffer=\"tr_types.csv\", sep=';' )\n",
        "\n",
        "downloaded_gender_train = drive.CreateFile({\"id\":\"1EnzPjklkXe2iQdHCln8-fLb0Vobu7ETE\"})\n",
        "downloaded_gender_train.GetContentFile(\"gender_train.csv\");\n",
        "gender_train = pd.read_csv(filepath_or_buffer = \"gender_train.csv\", sep = ',')\n",
        "\n",
        "downloaded_tr_mcc_codes = drive.CreateFile({\"id\":\"1O6hBt9PrBV8l9VE4xL2PcannAjzSCJPl\"})\n",
        "downloaded_tr_mcc_codes.GetContentFile(\"tr_mcc_codes.csv\");\n",
        "tr_mcc_codes = pd.read_csv('tr_mcc_codes.csv', sep = ';')"
      ],
      "execution_count": null,
      "outputs": [
        {
          "output_type": "stream",
          "text": [
            "Requirement already satisfied: PyDrive in /usr/local/lib/python3.6/dist-packages (1.3.1)\n",
            "Requirement already satisfied: google-api-python-client>=1.2 in /usr/local/lib/python3.6/dist-packages (from PyDrive) (1.7.12)\n",
            "Requirement already satisfied: PyYAML>=3.0 in /usr/local/lib/python3.6/dist-packages (from PyDrive) (3.13)\n",
            "Requirement already satisfied: oauth2client>=4.0.0 in /usr/local/lib/python3.6/dist-packages (from PyDrive) (4.1.3)\n",
            "Requirement already satisfied: httplib2<1dev,>=0.17.0 in /usr/local/lib/python3.6/dist-packages (from google-api-python-client>=1.2->PyDrive) (0.17.4)\n",
            "Requirement already satisfied: google-auth>=1.4.1 in /usr/local/lib/python3.6/dist-packages (from google-api-python-client>=1.2->PyDrive) (1.17.2)\n",
            "Requirement already satisfied: six<2dev,>=1.6.1 in /usr/local/lib/python3.6/dist-packages (from google-api-python-client>=1.2->PyDrive) (1.15.0)\n",
            "Requirement already satisfied: google-auth-httplib2>=0.0.3 in /usr/local/lib/python3.6/dist-packages (from google-api-python-client>=1.2->PyDrive) (0.0.4)\n",
            "Requirement already satisfied: uritemplate<4dev,>=3.0.0 in /usr/local/lib/python3.6/dist-packages (from google-api-python-client>=1.2->PyDrive) (3.0.1)\n",
            "Requirement already satisfied: rsa>=3.1.4 in /usr/local/lib/python3.6/dist-packages (from oauth2client>=4.0.0->PyDrive) (4.6)\n",
            "Requirement already satisfied: pyasn1>=0.1.7 in /usr/local/lib/python3.6/dist-packages (from oauth2client>=4.0.0->PyDrive) (0.4.8)\n",
            "Requirement already satisfied: pyasn1-modules>=0.0.5 in /usr/local/lib/python3.6/dist-packages (from oauth2client>=4.0.0->PyDrive) (0.2.8)\n",
            "Requirement already satisfied: setuptools>=40.3.0 in /usr/local/lib/python3.6/dist-packages (from google-auth>=1.4.1->google-api-python-client>=1.2->PyDrive) (50.3.0)\n",
            "Requirement already satisfied: cachetools<5.0,>=2.0.0 in /usr/local/lib/python3.6/dist-packages (from google-auth>=1.4.1->google-api-python-client>=1.2->PyDrive) (4.1.1)\n"
          ],
          "name": "stdout"
        }
      ]
    },
    {
      "cell_type": "markdown",
      "metadata": {
        "id": "xjvL0IIG8Jd0"
      },
      "source": [
        "## Задание 0\n"
      ]
    },
    {
      "cell_type": "markdown",
      "metadata": {
        "id": "yaSxXHvxO0qo"
      },
      "source": [
        "Для всех  заданий будем использовать обезличенные транзакционные банковские данные. Для этого считайте в переменные **tr_mcc_codes, tr_types, transactions и gender_train** из одноимённых таблиц из папки data. Для таблицы transactions используйте только первые n=1000000 строк. Обратите внимание на разделители внутри каждого из файлов - они могут различаться!"
      ]
    },
    {
      "cell_type": "markdown",
      "metadata": {
        "id": "oP3lX9xC8Jd8"
      },
      "source": [
        "###  Описание данных\n",
        "#### Таблица ```transactions.csv```\n",
        "##### Описание\n",
        "Таблица содержит историю транзакций клиентов банка за один год и три месяца.\n",
        "\n",
        "##### Формат данных\n",
        "\n",
        "```\n",
        "customer_id,tr_datetime,mcc_code,tr_type,amount,term_id\n",
        "111111,15 01:40:52,1111,1000,-5224,111111\n",
        "111112,15 15:18:32,3333,2000,-100,11122233\n",
        "...\n",
        "```\n",
        "##### Описание полей\n",
        "\n",
        " - ```customer_id``` — идентификатор клиента;\n",
        " - ```tr_datetime``` — день и время совершения транзакции (дни нумеруются с начала данных);\n",
        " - ```mcc_code``` — mcc-код транзакции;\n",
        " - ```tr_type``` — тип транзакции;\n",
        " - ```amount``` — сумма транзакции в условных единицах со знаком; ```+``` — начисление средств клиенту (приходная транзакция), ```-``` — списание средств (расходная транзакция);\n",
        " - ```term_id``` — идентификатор терминала;\n",
        "\n",
        "\n",
        "#### Таблица ```gender_train.csv```\n",
        "\n",
        "##### Описание\n",
        "Данная таблица содержит информацию по полу для части клиентов, для которых он известен. Для остальных клиентов пол неизвестен.\n",
        "\n",
        "##### Формат данных\n",
        "```\n",
        "customer_id,gender\n",
        "111111,0\n",
        "111112,1\n",
        "...\n",
        "```\n",
        "\n",
        "##### Описание полей\n",
        " - ```customer_id``` — идентификатор клиента;\n",
        " - ```gender``` — пол клиента;\n",
        "\n",
        "### Таблица ```tr_mcc_codes.csv```\n",
        "\n",
        "##### Описание\n",
        "Данная таблица содержит описание mcc-кодов транзакций.\n",
        "\n",
        "##### Формат данных\n",
        "```\n",
        "mcc_code;mcc_description\n",
        "1000;словесное описание mcc-кода 1000\n",
        "2000;словесное описание mcc-кода 2000\n",
        "...\n",
        "```\n",
        "\n",
        "##### Описание полей\n",
        " - ```mcc_code``` – mcc-код транзакции;\n",
        " - ```mcc_description``` — описание mcc-кода транзакции.\n",
        "\n",
        "#### Таблица ```tr_types.csv```\n",
        "\n",
        "##### Описание\n",
        "Данная таблица содержит описание типов транзакций.\n",
        "\n",
        "##### Формат данных\n",
        "```\n",
        "tr_type;tr_description\n",
        "1000;словесное описание типа транзакции 1000\n",
        "2000;словесное описание типа транзакции 2000\n",
        "...\n",
        "```\n",
        "\n",
        "##### Описание полей\n",
        " - ```tr_type``` – тип транзакции;\n",
        " - ```tr_description``` — описание типа транзакции;"
      ]
    },
    {
      "cell_type": "markdown",
      "metadata": {
        "id": "04CYsBKz8JeB"
      },
      "source": [
        "## Задание 1\n",
        "\n"
      ]
    },
    {
      "cell_type": "markdown",
      "metadata": {
        "id": "1hcrfwsYN_Yz"
      },
      "source": [
        "1. Для столбца tr_type датафрейма transactions выберите произвольные 1000 строк с помощью метода sample\n",
        "2. В полученной на предыдущем этапе подвыборке найдите долю транзакций (стобец tr_description в датасете tr_types), в которой содержится подстрока 'POS' или 'ATM'"
      ]
    },
    {
      "cell_type": "code",
      "metadata": {
        "id": "v26DKb6vJQT6",
        "outputId": "ae1ae121-dd56-4867-c922-7f9c2cd1315d",
        "colab": {
          "base_uri": "https://localhost:8080/",
          "height": 898
        }
      },
      "source": [
        "random_sample = transactions.sample(n=1000)\n",
        "random_sample"
      ],
      "execution_count": null,
      "outputs": [
        {
          "output_type": "execute_result",
          "data": {
            "text/html": [
              "<div>\n",
              "<style scoped>\n",
              "    .dataframe tbody tr th:only-of-type {\n",
              "        vertical-align: middle;\n",
              "    }\n",
              "\n",
              "    .dataframe tbody tr th {\n",
              "        vertical-align: top;\n",
              "    }\n",
              "\n",
              "    .dataframe thead th {\n",
              "        text-align: right;\n",
              "    }\n",
              "</style>\n",
              "<table border=\"1\" class=\"dataframe\">\n",
              "  <thead>\n",
              "    <tr style=\"text-align: right;\">\n",
              "      <th></th>\n",
              "      <th>customer_id</th>\n",
              "      <th>tr_datetime</th>\n",
              "      <th>mcc_code</th>\n",
              "      <th>tr_type</th>\n",
              "      <th>amount</th>\n",
              "      <th>term_id</th>\n",
              "      <th>gender</th>\n",
              "      <th>mcc_description</th>\n",
              "      <th>tr_description</th>\n",
              "    </tr>\n",
              "  </thead>\n",
              "  <tbody>\n",
              "    <tr>\n",
              "      <th>644673</th>\n",
              "      <td>86344405</td>\n",
              "      <td>379 14:24:18</td>\n",
              "      <td>6011</td>\n",
              "      <td>2010</td>\n",
              "      <td>-112295.79</td>\n",
              "      <td>329951</td>\n",
              "      <td>0.0</td>\n",
              "      <td>Финансовые институты — снятие наличности автом...</td>\n",
              "      <td>Выдача наличных в АТМ Сбербанк России</td>\n",
              "    </tr>\n",
              "    <tr>\n",
              "      <th>552693</th>\n",
              "      <td>67984042</td>\n",
              "      <td>84 09:24:02</td>\n",
              "      <td>6011</td>\n",
              "      <td>2010</td>\n",
              "      <td>-22459.16</td>\n",
              "      <td>NaN</td>\n",
              "      <td>NaN</td>\n",
              "      <td>Финансовые институты — снятие наличности автом...</td>\n",
              "      <td>Выдача наличных в АТМ Сбербанк России</td>\n",
              "    </tr>\n",
              "    <tr>\n",
              "      <th>530373</th>\n",
              "      <td>21276897</td>\n",
              "      <td>111 15:44:53</td>\n",
              "      <td>6011</td>\n",
              "      <td>7010</td>\n",
              "      <td>2156079.14</td>\n",
              "      <td>NaN</td>\n",
              "      <td>1.0</td>\n",
              "      <td>Финансовые институты — снятие наличности автом...</td>\n",
              "      <td>Взнос наличных через АТМ (в своем тер.банке)</td>\n",
              "    </tr>\n",
              "    <tr>\n",
              "      <th>301494</th>\n",
              "      <td>49148603</td>\n",
              "      <td>286 08:39:56</td>\n",
              "      <td>5499</td>\n",
              "      <td>1010</td>\n",
              "      <td>-4536.75</td>\n",
              "      <td>194679</td>\n",
              "      <td>0.0</td>\n",
              "      <td>Различные продовольственные магазины — рынки, ...</td>\n",
              "      <td>Покупка. POS ТУ СБ РФ</td>\n",
              "    </tr>\n",
              "    <tr>\n",
              "      <th>602623</th>\n",
              "      <td>36483672</td>\n",
              "      <td>12 12:44:18</td>\n",
              "      <td>6011</td>\n",
              "      <td>2010</td>\n",
              "      <td>-80852.97</td>\n",
              "      <td>NaN</td>\n",
              "      <td>NaN</td>\n",
              "      <td>Финансовые институты — снятие наличности автом...</td>\n",
              "      <td>Выдача наличных в АТМ Сбербанк России</td>\n",
              "    </tr>\n",
              "    <tr>\n",
              "      <th>...</th>\n",
              "      <td>...</td>\n",
              "      <td>...</td>\n",
              "      <td>...</td>\n",
              "      <td>...</td>\n",
              "      <td>...</td>\n",
              "      <td>...</td>\n",
              "      <td>...</td>\n",
              "      <td>...</td>\n",
              "      <td>...</td>\n",
              "    </tr>\n",
              "    <tr>\n",
              "      <th>246087</th>\n",
              "      <td>85036381</td>\n",
              "      <td>340 00:00:00</td>\n",
              "      <td>5533</td>\n",
              "      <td>1110</td>\n",
              "      <td>-5839.38</td>\n",
              "      <td>77074034</td>\n",
              "      <td>1.0</td>\n",
              "      <td>Автозапчасти и аксессуары</td>\n",
              "      <td>Покупка. POS ТУ Россия</td>\n",
              "    </tr>\n",
              "    <tr>\n",
              "      <th>395388</th>\n",
              "      <td>17096973</td>\n",
              "      <td>348 13:35:35</td>\n",
              "      <td>5411</td>\n",
              "      <td>1010</td>\n",
              "      <td>-10266.75</td>\n",
              "      <td>852774</td>\n",
              "      <td>NaN</td>\n",
              "      <td>Бакалейные магазины, супермаркеты</td>\n",
              "      <td>Покупка. POS ТУ СБ РФ</td>\n",
              "    </tr>\n",
              "    <tr>\n",
              "      <th>509613</th>\n",
              "      <td>82581973</td>\n",
              "      <td>405 00:00:00</td>\n",
              "      <td>5735</td>\n",
              "      <td>1200</td>\n",
              "      <td>-3795.60</td>\n",
              "      <td>NaN</td>\n",
              "      <td>NaN</td>\n",
              "      <td>Магазины звукозаписи</td>\n",
              "      <td>Покупка. Зарубеж. ТУ</td>\n",
              "    </tr>\n",
              "    <tr>\n",
              "      <th>699580</th>\n",
              "      <td>64294802</td>\n",
              "      <td>44 23:09:00</td>\n",
              "      <td>6011</td>\n",
              "      <td>2011</td>\n",
              "      <td>-44918.32</td>\n",
              "      <td>NaN</td>\n",
              "      <td>1.0</td>\n",
              "      <td>Финансовые институты — снятие наличности автом...</td>\n",
              "      <td>Выдача наличных в АТМ Сбербанка (в других ТБ)</td>\n",
              "    </tr>\n",
              "    <tr>\n",
              "      <th>2960</th>\n",
              "      <td>69161700</td>\n",
              "      <td>14 15:41:02</td>\n",
              "      <td>4814</td>\n",
              "      <td>1030</td>\n",
              "      <td>-5614.79</td>\n",
              "      <td>NaN</td>\n",
              "      <td>NaN</td>\n",
              "      <td>Звонки с использованием телефонов, считывающих...</td>\n",
              "      <td>Оплата услуги. Банкоматы СБ РФ</td>\n",
              "    </tr>\n",
              "  </tbody>\n",
              "</table>\n",
              "<p>1000 rows × 9 columns</p>\n",
              "</div>"
            ],
            "text/plain": [
              "        customer_id  ...                                 tr_description\n",
              "644673     86344405  ...          Выдача наличных в АТМ Сбербанк России\n",
              "552693     67984042  ...          Выдача наличных в АТМ Сбербанк России\n",
              "530373     21276897  ...   Взнос наличных через АТМ (в своем тер.банке)\n",
              "301494     49148603  ...                          Покупка. POS ТУ СБ РФ\n",
              "602623     36483672  ...          Выдача наличных в АТМ Сбербанк России\n",
              "...             ...  ...                                            ...\n",
              "246087     85036381  ...                         Покупка. POS ТУ Россия\n",
              "395388     17096973  ...                          Покупка. POS ТУ СБ РФ\n",
              "509613     82581973  ...                           Покупка. Зарубеж. ТУ\n",
              "699580     64294802  ...  Выдача наличных в АТМ Сбербанка (в других ТБ)\n",
              "2960       69161700  ...                 Оплата услуги. Банкоматы СБ РФ\n",
              "\n",
              "[1000 rows x 9 columns]"
            ]
          },
          "metadata": {
            "tags": []
          },
          "execution_count": 62
        }
      ]
    },
    {
      "cell_type": "code",
      "metadata": {
        "id": "G3q1BSjyMqX_",
        "outputId": "8b155687-cbc6-4952-8c8d-a07055fc5bee",
        "colab": {
          "base_uri": "https://localhost:8080/",
          "height": 419
        }
      },
      "source": [
        "tr_types"
      ],
      "execution_count": null,
      "outputs": [
        {
          "output_type": "execute_result",
          "data": {
            "text/html": [
              "<div>\n",
              "<style scoped>\n",
              "    .dataframe tbody tr th:only-of-type {\n",
              "        vertical-align: middle;\n",
              "    }\n",
              "\n",
              "    .dataframe tbody tr th {\n",
              "        vertical-align: top;\n",
              "    }\n",
              "\n",
              "    .dataframe thead th {\n",
              "        text-align: right;\n",
              "    }\n",
              "</style>\n",
              "<table border=\"1\" class=\"dataframe\">\n",
              "  <thead>\n",
              "    <tr style=\"text-align: right;\">\n",
              "      <th></th>\n",
              "      <th>tr_type</th>\n",
              "      <th>tr_description</th>\n",
              "    </tr>\n",
              "  </thead>\n",
              "  <tbody>\n",
              "    <tr>\n",
              "      <th>0</th>\n",
              "      <td>3200</td>\n",
              "      <td>Плата за предоставление услуг посредством моби...</td>\n",
              "    </tr>\n",
              "    <tr>\n",
              "      <th>1</th>\n",
              "      <td>3210</td>\n",
              "      <td>Плата за предоставление отчета по счету карты ...</td>\n",
              "    </tr>\n",
              "    <tr>\n",
              "      <th>2</th>\n",
              "      <td>3800</td>\n",
              "      <td>Плата за обслуживание банковской карты (за пер...</td>\n",
              "    </tr>\n",
              "    <tr>\n",
              "      <th>3</th>\n",
              "      <td>4000</td>\n",
              "      <td>Плата за получение наличных в Сбербанке</td>\n",
              "    </tr>\n",
              "    <tr>\n",
              "      <th>4</th>\n",
              "      <td>4001</td>\n",
              "      <td>Плата за получение наличных в Сбербанке (в дру...</td>\n",
              "    </tr>\n",
              "    <tr>\n",
              "      <th>...</th>\n",
              "      <td>...</td>\n",
              "      <td>...</td>\n",
              "    </tr>\n",
              "    <tr>\n",
              "      <th>150</th>\n",
              "      <td>2990</td>\n",
              "      <td>Списание по требованию</td>\n",
              "    </tr>\n",
              "    <tr>\n",
              "      <th>151</th>\n",
              "      <td>2992</td>\n",
              "      <td>Списание средств для погашения задолженности п...</td>\n",
              "    </tr>\n",
              "    <tr>\n",
              "      <th>152</th>\n",
              "      <td>3001</td>\n",
              "      <td>Комиссия за обслуживание ссудного счета</td>\n",
              "    </tr>\n",
              "    <tr>\n",
              "      <th>153</th>\n",
              "      <td>3030</td>\n",
              "      <td>Плата за обслуживание банковской карты (за пос...</td>\n",
              "    </tr>\n",
              "    <tr>\n",
              "      <th>154</th>\n",
              "      <td>3120</td>\n",
              "      <td>Плата за досрочный перевыпуск карты</td>\n",
              "    </tr>\n",
              "  </tbody>\n",
              "</table>\n",
              "<p>155 rows × 2 columns</p>\n",
              "</div>"
            ],
            "text/plain": [
              "     tr_type                                     tr_description\n",
              "0       3200  Плата за предоставление услуг посредством моби...\n",
              "1       3210  Плата за предоставление отчета по счету карты ...\n",
              "2       3800  Плата за обслуживание банковской карты (за пер...\n",
              "3       4000            Плата за получение наличных в Сбербанке\n",
              "4       4001  Плата за получение наличных в Сбербанке (в дру...\n",
              "..       ...                                                ...\n",
              "150     2990                             Списание по требованию\n",
              "151     2992  Списание средств для погашения задолженности п...\n",
              "152     3001            Комиссия за обслуживание ссудного счета\n",
              "153     3030  Плата за обслуживание банковской карты (за пос...\n",
              "154     3120                Плата за досрочный перевыпуск карты\n",
              "\n",
              "[155 rows x 2 columns]"
            ]
          },
          "metadata": {
            "tags": []
          },
          "execution_count": 51
        }
      ]
    },
    {
      "cell_type": "code",
      "metadata": {
        "id": "kwUZ4bjBNC9h",
        "outputId": "02f6880b-aec1-4491-8fca-1edcc4945960",
        "colab": {
          "base_uri": "https://localhost:8080/",
          "height": 35
        }
      },
      "source": [
        "tr_types_sample=tr_types[tr_types.tr_description.str.contains(\"POS\") | tr_types.tr_description.str.contains(\"АТМ\")]\n",
        "result_table = pd.merge(tr_types_sample, random_sample, on='tr_type');\n",
        "res=len(result_table)/len(random_sample)\n",
        "res"
      ],
      "execution_count": null,
      "outputs": [
        {
          "output_type": "execute_result",
          "data": {
            "text/plain": [
              "0.618"
            ]
          },
          "metadata": {
            "tags": []
          },
          "execution_count": 52
        }
      ]
    },
    {
      "cell_type": "markdown",
      "metadata": {
        "id": "fiZBDIZt8JeS"
      },
      "source": [
        "## Задание 2 \n"
      ]
    },
    {
      "cell_type": "markdown",
      "metadata": {
        "id": "FFKeBUThOCrz"
      },
      "source": [
        "1. Для столюца tr_type датафрейма transactions посчитайте частоту встречаемости всех типов транзакций tr_type в transactions.\n",
        "2. Выведите топ-10 транзакций по частоте встречаемости."
      ]
    },
    {
      "cell_type": "code",
      "metadata": {
        "id": "0jkkGXW6st6S",
        "outputId": "ccad0161-d414-42a6-82f0-5f8057beea48",
        "colab": {
          "base_uri": "https://localhost:8080/",
          "height": 1000
        }
      },
      "source": [
        "tr_groups = transactions.groupby(['tr_type'])\n",
        "types_sizes = tr_groups.size()\n",
        "\n",
        "i = 0\n",
        "for curr_size in types_sizes:\n",
        "  curr_frec = curr_size/len(transactions)\n",
        "  print(types_sizes.index[i], \" : \" ,curr_frec)\n",
        "  i+=1\n",
        "\n",
        "print(\"\\nTop-10 transatcions:\")\n",
        "\n",
        "top10 = types_sizes.sort_values(ascending=False).head(10)\n",
        "top10"
      ],
      "execution_count": null,
      "outputs": [
        {
          "output_type": "stream",
          "text": [
            "1000  :  8e-06\n",
            "1010  :  0.231117\n",
            "1030  :  0.118975\n",
            "1100  :  0.015476\n",
            "1110  :  0.137658\n",
            "1200  :  0.010419\n",
            "1210  :  0.005244\n",
            "1310  :  0.000166\n",
            "1410  :  0.000179\n",
            "1510  :  2e-06\n",
            "2010  :  0.151166\n",
            "2011  :  0.00688\n",
            "2020  :  0.00179\n",
            "2021  :  5.7e-05\n",
            "2100  :  1.9e-05\n",
            "2110  :  0.001273\n",
            "2200  :  6e-06\n",
            "2210  :  0.00068\n",
            "2320  :  0.001237\n",
            "2330  :  0.009428\n",
            "2331  :  0.002697\n",
            "2340  :  1.4e-05\n",
            "2341  :  4e-06\n",
            "2370  :  0.04983\n",
            "2371  :  0.006264\n",
            "2440  :  0.000555\n",
            "2446  :  4e-06\n",
            "2456  :  6e-05\n",
            "2460  :  0.000298\n",
            "4010  :  0.004925\n",
            "4011  :  0.001846\n",
            "4020  :  3.6e-05\n",
            "4021  :  1.1e-05\n",
            "4031  :  6.3e-05\n",
            "4041  :  6.8e-05\n",
            "4051  :  0.002697\n",
            "4061  :  4e-06\n",
            "4071  :  0.006264\n",
            "4090  :  0.000144\n",
            "4096  :  4e-06\n",
            "4097  :  5e-05\n",
            "4100  :  2.8e-05\n",
            "4110  :  0.001271\n",
            "4200  :  6e-06\n",
            "4210  :  0.000451\n",
            "4500  :  5.7e-05\n",
            "6000  :  1.7e-05\n",
            "6010  :  0.000272\n",
            "6100  :  0.000328\n",
            "6110  :  0.001666\n",
            "6200  :  0.000344\n",
            "6210  :  3.3e-05\n",
            "7010  :  0.028972\n",
            "7011  :  0.001252\n",
            "7014  :  0.000475\n",
            "7015  :  8e-06\n",
            "7020  :  0.002036\n",
            "7021  :  0.000541\n",
            "7024  :  2.6e-05\n",
            "7030  :  0.026078\n",
            "7031  :  0.003032\n",
            "7034  :  0.000126\n",
            "7035  :  1.2e-05\n",
            "7040  :  2.5e-05\n",
            "7041  :  9e-06\n",
            "7070  :  0.149006\n",
            "7071  :  0.015781\n",
            "7074  :  0.000505\n",
            "7075  :  1.2e-05\n",
            "8100  :  2e-06\n",
            "8145  :  8e-06\n",
            "8146  :  3e-06\n",
            "\n",
            "Top-10 transatcions:\n"
          ],
          "name": "stdout"
        },
        {
          "output_type": "execute_result",
          "data": {
            "text/plain": [
              "tr_type\n",
              "1010    231117\n",
              "2010    151166\n",
              "7070    149006\n",
              "1110    137658\n",
              "1030    118975\n",
              "2370     49830\n",
              "7010     28972\n",
              "7030     26078\n",
              "7071     15781\n",
              "1100     15476\n",
              "dtype: int64"
            ]
          },
          "metadata": {
            "tags": []
          },
          "execution_count": 7
        }
      ]
    },
    {
      "cell_type": "markdown",
      "metadata": {
        "id": "mktm_JeA8JeX"
      },
      "source": [
        "## Задание 3\n",
        "1. В датафрейме transactions найдите клиента с максимальной суммой приходов на карту\n",
        "2. В датафрейме transactions найдите клиента с максимальной суммой расходов по карте\n",
        "3. Найдите разницу для этих клиентов между суммой расходов и суммой приходов"
      ]
    },
    {
      "cell_type": "code",
      "metadata": {
        "id": "vK9_KAyRWmfx",
        "outputId": "ecaef3e0-7a42-4a8b-d9b3-e8985b49144d",
        "colab": {
          "base_uri": "https://localhost:8080/",
          "height": 143
        }
      },
      "source": [
        "client_with_max_pos_amount = transactions[transactions.amount > 0].groupby(\"customer_id\").sum()\n",
        "client_with_gender = transactions[transactions.customer_id ==  client_with_max_pos_amount[\"amount\"].idxmax()]\n",
        "client = transactions[transactions['customer_id'] == 70780820]\n",
        "print(\"Пол клиента: \",client['gender'].values[0])\n",
        "t = transactions.groupby(\"gender\").groups\n",
        "\n",
        "t1 = transactions[transactions.amount > 0].groupby('gender').groups\n",
        "t1.get(0)"
      ],
      "execution_count": null,
      "outputs": [
        {
          "output_type": "stream",
          "text": [
            "Пол клиента:  1.0\n"
          ],
          "name": "stdout"
        },
        {
          "output_type": "execute_result",
          "data": {
            "text/plain": [
              "Int64Index([120396, 120397, 121191, 121222, 121250, 121265, 121267, 121336,\n",
              "            121339, 121340,\n",
              "            ...\n",
              "            998280, 998281, 998283, 998286, 998301, 998304, 999570, 999574,\n",
              "            999575, 999576],\n",
              "           dtype='int64', length=43303)"
            ]
          },
          "metadata": {
            "tags": []
          },
          "execution_count": 103
        }
      ]
    },
    {
      "cell_type": "code",
      "metadata": {
        "id": "OL0rsQrKXzvY",
        "outputId": "03b211c5-1885-47e8-b25f-f345de4778c7",
        "colab": {
          "base_uri": "https://localhost:8080/",
          "height": 419
        }
      },
      "source": [
        "client_with_max_neg_amount = transactions[transactions.amount < 0].groupby(\"customer_id\").sum()\n",
        "transactions[transactions.customer_id ==  client_with_max_neg_amount[\"amount\"].idxmin()]"
      ],
      "execution_count": null,
      "outputs": [
        {
          "output_type": "execute_result",
          "data": {
            "text/html": [
              "<div>\n",
              "<style scoped>\n",
              "    .dataframe tbody tr th:only-of-type {\n",
              "        vertical-align: middle;\n",
              "    }\n",
              "\n",
              "    .dataframe tbody tr th {\n",
              "        vertical-align: top;\n",
              "    }\n",
              "\n",
              "    .dataframe thead th {\n",
              "        text-align: right;\n",
              "    }\n",
              "</style>\n",
              "<table border=\"1\" class=\"dataframe\">\n",
              "  <thead>\n",
              "    <tr style=\"text-align: right;\">\n",
              "      <th></th>\n",
              "      <th>customer_id</th>\n",
              "      <th>tr_datetime</th>\n",
              "      <th>mcc_code</th>\n",
              "      <th>tr_type</th>\n",
              "      <th>amount</th>\n",
              "      <th>term_id</th>\n",
              "      <th>gender</th>\n",
              "      <th>mcc_description</th>\n",
              "      <th>tr_description</th>\n",
              "    </tr>\n",
              "  </thead>\n",
              "  <tbody>\n",
              "    <tr>\n",
              "      <th>613348</th>\n",
              "      <td>70780820</td>\n",
              "      <td>3 08:57:14</td>\n",
              "      <td>6011</td>\n",
              "      <td>2010</td>\n",
              "      <td>-3368873.66</td>\n",
              "      <td>NaN</td>\n",
              "      <td>1.0</td>\n",
              "      <td>Финансовые институты — снятие наличности автом...</td>\n",
              "      <td>Выдача наличных в АТМ Сбербанк России</td>\n",
              "    </tr>\n",
              "    <tr>\n",
              "      <th>613349</th>\n",
              "      <td>70780820</td>\n",
              "      <td>8 14:01:12</td>\n",
              "      <td>6011</td>\n",
              "      <td>2010</td>\n",
              "      <td>-4491831.54</td>\n",
              "      <td>NaN</td>\n",
              "      <td>1.0</td>\n",
              "      <td>Финансовые институты — снятие наличности автом...</td>\n",
              "      <td>Выдача наличных в АТМ Сбербанк России</td>\n",
              "    </tr>\n",
              "    <tr>\n",
              "      <th>613350</th>\n",
              "      <td>70780820</td>\n",
              "      <td>8 14:02:60</td>\n",
              "      <td>6011</td>\n",
              "      <td>2010</td>\n",
              "      <td>-2245915.77</td>\n",
              "      <td>NaN</td>\n",
              "      <td>1.0</td>\n",
              "      <td>Финансовые институты — снятие наличности автом...</td>\n",
              "      <td>Выдача наличных в АТМ Сбербанк России</td>\n",
              "    </tr>\n",
              "    <tr>\n",
              "      <th>613351</th>\n",
              "      <td>70780820</td>\n",
              "      <td>14 12:08:30</td>\n",
              "      <td>6011</td>\n",
              "      <td>2010</td>\n",
              "      <td>-965743.78</td>\n",
              "      <td>NaN</td>\n",
              "      <td>1.0</td>\n",
              "      <td>Финансовые институты — снятие наличности автом...</td>\n",
              "      <td>Выдача наличных в АТМ Сбербанк России</td>\n",
              "    </tr>\n",
              "    <tr>\n",
              "      <th>613352</th>\n",
              "      <td>70780820</td>\n",
              "      <td>17 02:32:56</td>\n",
              "      <td>6011</td>\n",
              "      <td>2010</td>\n",
              "      <td>-1033121.26</td>\n",
              "      <td>NaN</td>\n",
              "      <td>1.0</td>\n",
              "      <td>Финансовые институты — снятие наличности автом...</td>\n",
              "      <td>Выдача наличных в АТМ Сбербанк России</td>\n",
              "    </tr>\n",
              "    <tr>\n",
              "      <th>...</th>\n",
              "      <td>...</td>\n",
              "      <td>...</td>\n",
              "      <td>...</td>\n",
              "      <td>...</td>\n",
              "      <td>...</td>\n",
              "      <td>...</td>\n",
              "      <td>...</td>\n",
              "      <td>...</td>\n",
              "      <td>...</td>\n",
              "    </tr>\n",
              "    <tr>\n",
              "      <th>997962</th>\n",
              "      <td>70780820</td>\n",
              "      <td>245 11:26:04</td>\n",
              "      <td>6010</td>\n",
              "      <td>7040</td>\n",
              "      <td>14396.32</td>\n",
              "      <td>370359</td>\n",
              "      <td>1.0</td>\n",
              "      <td>Финансовые институты — снятие наличности вручную</td>\n",
              "      <td>Перевод на карту (с карты) через POS (в предел...</td>\n",
              "    </tr>\n",
              "    <tr>\n",
              "      <th>997963</th>\n",
              "      <td>70780820</td>\n",
              "      <td>333 02:07:47</td>\n",
              "      <td>6010</td>\n",
              "      <td>7040</td>\n",
              "      <td>19269.96</td>\n",
              "      <td>152770</td>\n",
              "      <td>1.0</td>\n",
              "      <td>Финансовые институты — снятие наличности вручную</td>\n",
              "      <td>Перевод на карту (с карты) через POS (в предел...</td>\n",
              "    </tr>\n",
              "    <tr>\n",
              "      <th>997964</th>\n",
              "      <td>70780820</td>\n",
              "      <td>369 11:41:37</td>\n",
              "      <td>6010</td>\n",
              "      <td>7040</td>\n",
              "      <td>10398.59</td>\n",
              "      <td>150547</td>\n",
              "      <td>1.0</td>\n",
              "      <td>Финансовые институты — снятие наличности вручную</td>\n",
              "      <td>Перевод на карту (с карты) через POS (в предел...</td>\n",
              "    </tr>\n",
              "    <tr>\n",
              "      <th>997965</th>\n",
              "      <td>70780820</td>\n",
              "      <td>374 08:16:14</td>\n",
              "      <td>6010</td>\n",
              "      <td>7040</td>\n",
              "      <td>54396.08</td>\n",
              "      <td>150318</td>\n",
              "      <td>1.0</td>\n",
              "      <td>Финансовые институты — снятие наличности вручную</td>\n",
              "      <td>Перевод на карту (с карты) через POS (в предел...</td>\n",
              "    </tr>\n",
              "    <tr>\n",
              "      <th>998073</th>\n",
              "      <td>70780820</td>\n",
              "      <td>41 16:26:41</td>\n",
              "      <td>6010</td>\n",
              "      <td>7034</td>\n",
              "      <td>14306.48</td>\n",
              "      <td>NaN</td>\n",
              "      <td>1.0</td>\n",
              "      <td>Финансовые институты — снятие наличности вручную</td>\n",
              "      <td>Перевод на карту/ с карты через АТМ (без взима...</td>\n",
              "    </tr>\n",
              "  </tbody>\n",
              "</table>\n",
              "<p>88781 rows × 9 columns</p>\n",
              "</div>"
            ],
            "text/plain": [
              "        customer_id  ...                                     tr_description\n",
              "613348     70780820  ...              Выдача наличных в АТМ Сбербанк России\n",
              "613349     70780820  ...              Выдача наличных в АТМ Сбербанк России\n",
              "613350     70780820  ...              Выдача наличных в АТМ Сбербанк России\n",
              "613351     70780820  ...              Выдача наличных в АТМ Сбербанк России\n",
              "613352     70780820  ...              Выдача наличных в АТМ Сбербанк России\n",
              "...             ...  ...                                                ...\n",
              "997962     70780820  ...  Перевод на карту (с карты) через POS (в предел...\n",
              "997963     70780820  ...  Перевод на карту (с карты) через POS (в предел...\n",
              "997964     70780820  ...  Перевод на карту (с карты) через POS (в предел...\n",
              "997965     70780820  ...  Перевод на карту (с карты) через POS (в предел...\n",
              "998073     70780820  ...  Перевод на карту/ с карты через АТМ (без взима...\n",
              "\n",
              "[88781 rows x 9 columns]"
            ]
          },
          "metadata": {
            "tags": []
          },
          "execution_count": 47
        }
      ]
    },
    {
      "cell_type": "code",
      "metadata": {
        "id": "W7eC6X5hYaJs",
        "outputId": "5da3cd1d-33f6-4624-9101-6b300267ed96",
        "colab": {
          "base_uri": "https://localhost:8080/",
          "height": 35
        }
      },
      "source": [
        "res = abs(client_with_max_neg_amount[\"amount\"].values.min() - client_with_max_pos_amount[\"amount\"].values.max())\n",
        "res"
      ],
      "execution_count": null,
      "outputs": [
        {
          "output_type": "execute_result",
          "data": {
            "text/plain": [
              "2498067091.5999985"
            ]
          },
          "metadata": {
            "tags": []
          },
          "execution_count": 48
        }
      ]
    },
    {
      "cell_type": "markdown",
      "metadata": {
        "id": "BYrJ5b_E8Jee"
      },
      "source": [
        "## Задание 4\n",
        "1. Найдите среднее арифметическое и медиану по всем типам транзакций из топ 10 из задания 2\n",
        "1. Найдите среднее арифметическое и медиану по всем типам транзакций для клиентов из задания 3"
      ]
    },
    {
      "cell_type": "code",
      "metadata": {
        "id": "ekGQwnXVcDsa",
        "outputId": "5cf82904-d63f-41e0-9544-26b0a76ef081",
        "colab": {
          "base_uri": "https://localhost:8080/",
          "height": 917
        }
      },
      "source": [
        "top10_df = top10.to_frame();\n",
        "top10_amount = pd.merge(top10_df, transactions, on='tr_type').groupby('tr_type');\n",
        "\n",
        "for key, group in top10_amount:\n",
        "  print(\"Avg for\", key, \":\", group['amount'].mean())\n",
        "  print(\"Median for\", key, \":\", group['amount'].median())\n",
        "\n",
        "print(\"\\n\\n\\n\")\n",
        "\n",
        "client_from_task3_types = transactions[transactions.customer_id == client_with_max_pos_amount[\"amount\"].idxmax()].groupby('tr_type')\n",
        "\n",
        "for key, group in client_from_task3_types:\n",
        "  print(\"Avg for\", key, \":\", group['amount'].mean())\n",
        "  print(\"Median for\", key, \":\", group['amount'].median())\n"
      ],
      "execution_count": null,
      "outputs": [
        {
          "output_type": "stream",
          "text": [
            "Avg for 1010 : -19784.748639648507\n",
            "Median for 1010 : -7411.52\n",
            "Avg for 1030 : -5320.980221811316\n",
            "Median for 1030 : -2245.92\n",
            "Avg for 1100 : -44061.82726156657\n",
            "Median for 1100 : -10188.259999999998\n",
            "Avg for 1110 : -32119.330370770458\n",
            "Median for 1110 : -11207.57\n",
            "Avg for 2010 : -136077.62932505234\n",
            "Median for 2010 : -44918.32\n",
            "Avg for 2370 : -205418.24903167944\n",
            "Median for 2370 : -44918.32\n",
            "Avg for 7010 : 276391.7895961331\n",
            "Median for 7010 : 112295.79\n",
            "Avg for 7030 : 86104.33290896451\n",
            "Median for 7030 : 13951.52\n",
            "Avg for 7070 : 65569.83170018934\n",
            "Median for 7070 : 11319.42\n",
            "Avg for 7071 : 66806.82662251407\n",
            "Median for 7071 : 3593.47\n",
            "\n",
            "\n",
            "\n",
            "\n",
            "Avg for 2010 : -2941055.8709415505\n",
            "Median for 2010 : -3368873.66\n",
            "Avg for 2330 : -2382398.344615385\n",
            "Median for 2330 : -2245915.77\n",
            "Avg for 2370 : -2218504.987086618\n",
            "Median for 2370 : -2245915.77\n",
            "Avg for 6110 : 17562.93173076922\n",
            "Median for 6110 : 10028.01\n",
            "Avg for 7020 : 14651.290741626804\n",
            "Median for 7020 : 10319.985\n",
            "Avg for 7021 : 28500.67\n",
            "Median for 7021 : 28500.67\n",
            "Avg for 7030 : 14061.955241583857\n",
            "Median for 7030 : 8848.91\n",
            "Avg for 7031 : 19210.358452380955\n",
            "Median for 7031 : 12992.619999999999\n",
            "Avg for 7034 : 14306.48\n",
            "Median for 7034 : 14306.48\n",
            "Avg for 7040 : 21538.332000000002\n",
            "Median for 7040 : 14396.32\n",
            "Avg for 7070 : 13848.205232082266\n",
            "Median for 7070 : 8714.15\n",
            "Avg for 7071 : 18600.572007692284\n",
            "Median for 7071 : 12543.439999999999\n",
            "Avg for 7074 : 22811.59307692308\n",
            "Median for 7074 : 9387.93\n"
          ],
          "name": "stdout"
        }
      ]
    },
    {
      "cell_type": "markdown",
      "metadata": {
        "id": "BYXwM4l3QDBu"
      },
      "source": [
        "## Подготовка для заданий 5-8"
      ]
    },
    {
      "cell_type": "markdown",
      "metadata": {
        "id": "XWQzFeKcQHRe"
      },
      "source": [
        "*Из заданий 5-8 нужно выполнить минимум два любых*\n",
        "\n",
        "Соедините transactions с всеми остальными таблицами (tr_mcc_codes, tr_types, gender_train). Причём с gender_train необходимо смёрджиться с помощью left join, а с оставшимися датафреймами - через inner.\n",
        "После получения результата таблицы gender_train, tr_types, tr_mcc_codes можно удалить. В результате соединения датафреймов должно получиться 999584 строки."
      ]
    },
    {
      "cell_type": "code",
      "metadata": {
        "id": "sndJxjJ7QQf5",
        "outputId": "a4dec16c-3b31-4350-9fe4-515d087ba346",
        "colab": {
          "base_uri": "https://localhost:8080/",
          "height": 35
        }
      },
      "source": [
        "transactions = pd.merge(transactions, gender_train, how='left')\n",
        "transactions = pd.merge(transactions, tr_mcc_codes, how='inner')\n",
        "transactions = pd.merge(transactions, tr_types, how='inner')\n",
        "transactions.shape"
      ],
      "execution_count": null,
      "outputs": [
        {
          "output_type": "execute_result",
          "data": {
            "text/plain": [
              "(999584, 9)"
            ]
          },
          "metadata": {
            "tags": []
          },
          "execution_count": 41
        }
      ]
    },
    {
      "cell_type": "markdown",
      "metadata": {
        "id": "8vrFauJ8QgmT"
      },
      "source": [
        "## Задание 5"
      ]
    },
    {
      "cell_type": "markdown",
      "metadata": {
        "id": "rOjEQ5xyQfE_"
      },
      "source": [
        "1. Определите модуль разницы между средними тратами женщин и мужчин (трата - отрицательное значение amount).\n",
        "2. Определите модуль разницы между средними поступлениями у мужчин и женщин\n",
        "\n",
        "Обратите внимание, что для вычисления модуля разности точных знаний о том, \n",
        "какой класc относится к мужчинам, а какой - к женщинам, не требуется."
      ]
    },
    {
      "cell_type": "code",
      "metadata": {
        "id": "Htz3MXsZm1Ig",
        "outputId": "e6395200-d35c-423d-f4bc-22e895caf612",
        "colab": {
          "base_uri": "https://localhost:8080/",
          "height": 53
        }
      },
      "source": [
        "transactions_by_gender_neg_amount = transactions[transactions['amount'] < 0].groupby('gender');\n",
        "males_amount = 0;\n",
        "females_amount = 0;\n",
        "\n",
        "\n",
        "for key, group in transactions_by_gender_neg_amount:\n",
        "  if (key == 0.0):\n",
        "    males_amount = group['amount'].mean()\n",
        "  if (key == 1.0):\n",
        "    females_amount = group['amount'].mean()\n",
        "\n",
        "res = abs(males_amount - females_amount)\n",
        "print(\"1.Abs. amount diff. of neg. amount: \", res)\n",
        "\n",
        "\n",
        "transactions_by_gender_pos_amount = transactions[transactions['amount'] > 0].groupby('gender');\n",
        "\n",
        "for key, group in transactions_by_gender_pos_amount:\n",
        "  if (key == 0.0):\n",
        "    males_amount = group['amount'].mean()\n",
        "  if (key == 1.0):\n",
        "    females_amount = group['amount'].mean()\n",
        "\n",
        "res = abs(males_amount - females_amount)\n",
        "print(\"2.Abs. amount diff. of pos. amount: \", res)\n"
      ],
      "execution_count": null,
      "outputs": [
        {
          "output_type": "stream",
          "text": [
            "1.Abs. amount diff. of neg. amount:  32718.05492021877\n",
            "2.Abs. amount diff. of pos. amount:  63366.57104801515\n"
          ],
          "name": "stdout"
        }
      ]
    },
    {
      "cell_type": "markdown",
      "metadata": {
        "id": "DSHFLbepQ7G1"
      },
      "source": [
        "## Задание 6"
      ]
    },
    {
      "cell_type": "markdown",
      "metadata": {
        "id": "2EF1490bQ-17"
      },
      "source": [
        "1. По всем типам транзакций рассчитайте максимальную сумму прихода на карту (из строго положительных сумм по столбцу amount) отдельно для мужчин и женщин (назовите ее \"max_income\"). Оставьте по 10 транзакций для мужчин и для женщин, наименьших среди всех транзакций по полученным значениям \"max_income\". \n",
        "2. Выделите среди них те, которые встречаются одновременно и у мужчин, и у женщин"
      ]
    },
    {
      "cell_type": "markdown",
      "metadata": {
        "id": "W-LaVwRdR3UB"
      },
      "source": [
        "## Задание 7"
      ]
    },
    {
      "cell_type": "markdown",
      "metadata": {
        "id": "rhI4NOciR7e0"
      },
      "source": [
        "1. Найдите суммы затрат по каждой категории для мужчин и для женщин. \n",
        "2. Найдите топ 5 категорий с самыми большими относительными модулями разности для в тратах для разных полов."
      ]
    },
    {
      "cell_type": "markdown",
      "metadata": {
        "id": "aGaPkQkVSvl8"
      },
      "source": [
        "## Задание 8"
      ]
    },
    {
      "cell_type": "markdown",
      "metadata": {
        "id": "T7Ox1qAXTHQl"
      },
      "source": [
        "1. Из поля tr_datetime выделите час tr_hour, в который произошла транзакция, как первые 2 цифры до \":\". (\\**)\n",
        "2. Посчитайте ночные поступления для мужчин и женщин. Ночные - это примерно 00-06 часов. "
      ]
    },
    {
      "cell_type": "code",
      "metadata": {
        "id": "QRjIr1OH8FQ4",
        "outputId": "fbc55852-e0a5-4707-aefe-9606541072e6",
        "colab": {
          "base_uri": "https://localhost:8080/",
          "height": 359
        }
      },
      "source": [
        "time_df = transactions['tr_datetime'].str.split(\" \", expand=True)\n",
        "time_df.columns = ['tr_day', 'hms']\n",
        "\n",
        "HMS_df = time_df['hms'].str.split(\":\", expand=True)\n",
        "HMS_df.columns = ['tr_hours', 'tr_minutes', 'tr_seconds']\n",
        "print(\"1.\", HMS_df['tr_hours'],\"\\n\\n\\n\")\n",
        "\n",
        "changed_transactions = pd.concat([transactions,HMS_df], axis=1)\n",
        "grouped_by_gender_transactions = changed_transactions[changed_transactions['tr_hours'].astype('int64') < 7].groupby('gender') \n",
        "grouped_by_gender_transactions.size()"
      ],
      "execution_count": null,
      "outputs": [
        {
          "output_type": "stream",
          "text": [
            "1. 0         10\n",
            "1         07\n",
            "2         07\n",
            "3         08\n",
            "4         14\n",
            "          ..\n",
            "999579    23\n",
            "999580    19\n",
            "999581    22\n",
            "999582    23\n",
            "999583    23\n",
            "Name: tr_hours, Length: 999584, dtype: object \n",
            "\n",
            "\n",
            "\n"
          ],
          "name": "stdout"
        },
        {
          "output_type": "execute_result",
          "data": {
            "text/plain": [
              "gender\n",
              "0.0    47569\n",
              "1.0    79420\n",
              "dtype: int64"
            ]
          },
          "metadata": {
            "tags": []
          },
          "execution_count": 43
        }
      ]
    }
  ]
}